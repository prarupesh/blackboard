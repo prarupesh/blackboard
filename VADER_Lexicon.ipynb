{
 "cells": [
  {
   "cell_type": "code",
   "execution_count": 2,
   "id": "5e17a6f0-ee6d-4c9e-bd77-3f6e255394a9",
   "metadata": {},
   "outputs": [],
   "source": [
    "import nltk"
   ]
  },
  {
   "cell_type": "code",
   "execution_count": 3,
   "id": "287a7a88-d113-4234-8fed-8a2bc169771f",
   "metadata": {},
   "outputs": [
    {
     "name": "stderr",
     "output_type": "stream",
     "text": [
      "[nltk_data] Downloading package vader_lexicon to\n",
      "[nltk_data]     /Users/rupesh/nltk_data...\n",
      "[nltk_data]   Package vader_lexicon is already up-to-date!\n"
     ]
    },
    {
     "data": {
      "text/plain": [
       "True"
      ]
     },
     "execution_count": 3,
     "metadata": {},
     "output_type": "execute_result"
    }
   ],
   "source": [
    "nltk.download('vader_lexicon')"
   ]
  },
  {
   "cell_type": "code",
   "execution_count": 4,
   "id": "46c21dc3-a39a-4ac5-8959-610e8f8a0abc",
   "metadata": {},
   "outputs": [],
   "source": [
    "from nltk.sentiment.vader import SentimentIntensityAnalyzer"
   ]
  },
  {
   "cell_type": "code",
   "execution_count": 5,
   "id": "377fced9-0960-4a37-860b-6e8687938c62",
   "metadata": {},
   "outputs": [],
   "source": [
    "analyzer = SentimentIntensityAnalyzer()"
   ]
  },
  {
   "cell_type": "code",
   "execution_count": 6,
   "id": "dbd083ba-ec02-46db-aa90-4151f5e38fb1",
   "metadata": {},
   "outputs": [
    {
     "name": "stdout",
     "output_type": "stream",
     "text": [
      "{'neg': 0.0, 'neu': 0.515, 'pos': 0.485, 'compound': 0.7644}\n"
     ]
    }
   ],
   "source": [
    "text = \"NLTK is an amazing library for natural language processing!\"\n",
    "scores = analyzer.polarity_scores(text)\n",
    "print(scores)"
   ]
  },
  {
   "cell_type": "code",
   "execution_count": 7,
   "id": "cd797016-fb5e-4c37-9503-ad31d00818f9",
   "metadata": {},
   "outputs": [
    {
     "name": "stdout",
     "output_type": "stream",
     "text": [
      "Text: I love this movie! It's fantastic.\n",
      "Sentiment Scores: {'neg': 0.0, 'neu': 0.27, 'pos': 0.73, 'compound': 0.8439}\n",
      "\n",
      "Text: I'm not sure about this one...\n",
      "Sentiment Scores: {'neg': 0.282, 'neu': 0.718, 'pos': 0.0, 'compound': -0.2411}\n",
      "\n",
      "Text: This product is great but the customer service is terrible.\n",
      "Sentiment Scores: {'neg': 0.282, 'neu': 0.544, 'pos': 0.173, 'compound': -0.3818}\n",
      "\n"
     ]
    }
   ],
   "source": [
    "corpus = [\n",
    "    \"I love this movie! It's fantastic.\",\n",
    "    \"I'm not sure about this one...\",\n",
    "    \"This product is great but the customer service is terrible.\"\n",
    "]\n",
    "for text in corpus:\n",
    "    scores = analyzer.polarity_scores(text)\n",
    "    print(f\"Text: {text}\")\n",
    "    print(f\"Sentiment Scores: {scores}\\n\")"
   ]
  },
  {
   "cell_type": "code",
   "execution_count": null,
   "id": "6cb4acb0-c261-4190-8cae-7f83a028200e",
   "metadata": {},
   "outputs": [],
   "source": []
  }
 ],
 "metadata": {
  "kernelspec": {
   "display_name": "Python 3 (ipykernel)",
   "language": "python",
   "name": "python3"
  },
  "language_info": {
   "codemirror_mode": {
    "name": "ipython",
    "version": 3
   },
   "file_extension": ".py",
   "mimetype": "text/x-python",
   "name": "python",
   "nbconvert_exporter": "python",
   "pygments_lexer": "ipython3",
   "version": "3.9.18"
  }
 },
 "nbformat": 4,
 "nbformat_minor": 5
}
