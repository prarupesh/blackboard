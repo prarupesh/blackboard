{
 "cells": [
  {
   "cell_type": "markdown",
   "id": "da4e26cc-8922-4e8b-a431-90f8e66a14a2",
   "metadata": {},
   "source": [
    "## <center>Blackboard Architecture Demonstration (Sentiment Analysis)</center>\n",
    "![blackboard architecture](blackboard_architecture.png)"
   ]
  },
  {
   "cell_type": "code",
   "execution_count": 1,
   "id": "d3458ed0-9c6e-4318-b70a-efa9416a50df",
   "metadata": {},
   "outputs": [],
   "source": [
    "import os\n",
    "import nltk\n",
    "from nltk.sentiment.vader import SentimentIntensityAnalyzer\n",
    "from sklearn.feature_extraction.text import TfidfVectorizer\n",
    "from sklearn.linear_model import LogisticRegression\n",
    "import pandas as pd\n",
    "import re"
   ]
  },
  {
   "cell_type": "code",
   "execution_count": 2,
   "id": "779c1941-c52c-407b-8204-28aa78c110e9",
   "metadata": {},
   "outputs": [],
   "source": [
    "#nltk.download('vader_lexicon')"
   ]
  },
  {
   "cell_type": "markdown",
   "id": "19c7a30e-4e61-4627-ba0b-b38616dfc187",
   "metadata": {},
   "source": [
    "**VADER** (Valence Aware Dictionary and sEntiment Reasoner) is a lexicon and rule-based sentiment analysis tool that is specifically attuned to sentiments expressed in social media."
   ]
  },
  {
   "cell_type": "code",
   "execution_count": 3,
   "id": "56c5331c-9adb-4b0a-ac11-4fb21eb1d045",
   "metadata": {},
   "outputs": [],
   "source": [
    "class Blackboard:\n",
    "    def __init__(self):\n",
    "        self.data = {\n",
    "            'reviews': [],\n",
    "            'cleaned_reviews': [],\n",
    "            'rule_based_scores': [],\n",
    "            'ml_based_scores': [],\n",
    "            'final_sentiments': []\n",
    "        }\n",
    "\n",
    "    def update(self, key, value):\n",
    "        if key in self.data and isinstance(self.data[key], list):\n",
    "            self.data[key].extend(value)\n",
    "        else:\n",
    "            self.data[key] = value\n",
    "\n",
    "    def read(self, key):\n",
    "        return self.data.get(key)\n"
   ]
  },
  {
   "cell_type": "code",
   "execution_count": 4,
   "id": "dadae8d7-4353-464e-be92-f4bb98cfdedb",
   "metadata": {},
   "outputs": [],
   "source": [
    "class KnowledgeSource:\n",
    "    def __init__(self, blackboard):\n",
    "        self.blackboard = blackboard\n",
    "\n",
    "    def act(self):\n",
    "        raise NotImplementedError"
   ]
  },
  {
   "cell_type": "code",
   "execution_count": 5,
   "id": "d12f1d75-26a7-4944-ac87-be7ce40ceea1",
   "metadata": {},
   "outputs": [],
   "source": [
    "# Basic Text Processing KS\n",
    "class TextProcessor(KnowledgeSource):\n",
    "    def act(self):\n",
    "        reviews = self.blackboard.read('reviews')\n",
    "        cleaned_reviews = [self.clean_text(review) for review in reviews]\n",
    "        self.blackboard.update('cleaned_reviews', cleaned_reviews)\n",
    "\n",
    "    def clean_text(self, text):\n",
    "        text = re.sub(r'<.*?>', ' ', text)\n",
    "        text = re.sub(r'[^a-zA-Z\\s]', ' ', text)\n",
    "        text = text.lower().strip()\n",
    "        return text\n",
    "\n",
    "# Rule-Based Sentiment Analysis KS\n",
    "class RuleBasedSentimentAnalysis(KnowledgeSource):\n",
    "    def __init__(self, blackboard):\n",
    "        super().__init__(blackboard)\n",
    "        self.analyzer = SentimentIntensityAnalyzer()\n",
    "\n",
    "    def act(self):\n",
    "        cleaned_reviews = self.blackboard.read('cleaned_reviews')\n",
    "        scores = [self.analyzer.polarity_scores(review)['compound'] for review in cleaned_reviews]\n",
    "        sentiments = ['positive' if score >= 0 else 'negative' for score in scores]\n",
    "        self.blackboard.update('rule_based_scores', sentiments)\n",
    "\n",
    "# Machine Learning Sentiment Analysis KS\n",
    "class MachineLearningSentimentAnalysis(KnowledgeSource):\n",
    "    def __init__(self, blackboard):\n",
    "        super().__init__(blackboard)\n",
    "        self.vectorizer = TfidfVectorizer(max_features=5000)\n",
    "        self.model = LogisticRegression()\n",
    "\n",
    "    def train(self, reviews, labels):\n",
    "        vectors = self.vectorizer.fit_transform(reviews)\n",
    "        self.model.fit(vectors, labels)\n",
    "\n",
    "    def act(self):\n",
    "        cleaned_reviews = self.blackboard.read('cleaned_reviews')\n",
    "        vectors = self.vectorizer.transform(cleaned_reviews)\n",
    "        sentiments = self.model.predict(vectors)\n",
    "        self.blackboard.update('ml_based_scores', sentiments)"
   ]
  },
  {
   "cell_type": "code",
   "execution_count": 6,
   "id": "99daf9b4-45fc-4119-b254-7ab113df1fb9",
   "metadata": {},
   "outputs": [],
   "source": [
    "class ControlComponent:\n",
    "    def __init__(self, blackboard, knowledge_sources):\n",
    "        self.blackboard = blackboard\n",
    "        self.knowledge_sources = knowledge_sources\n",
    "\n",
    "    def run(self):\n",
    "        for ks in self.knowledge_sources:\n",
    "            ks.act()"
   ]
  },
  {
   "cell_type": "code",
   "execution_count": 7,
   "id": "29d6a32b-c8d4-4145-a185-99fc010e9c17",
   "metadata": {},
   "outputs": [],
   "source": [
    "# Instantiate the system components\n",
    "blackboard = Blackboard()\n",
    "\n",
    "# Load IMDb dataset\n",
    "def load_imdb_dataset():\n",
    "    # Read positive reviews\n",
    "    pos_reviews = []\n",
    "    for filename in os.listdir('dataset/train/pos'):\n",
    "        with open(os.path.join('dataset/train/pos', filename), 'r', encoding='utf-8') as file:\n",
    "            pos_reviews.append(file.read())\n",
    "\n",
    "    # Read negative reviews\n",
    "    neg_reviews = []\n",
    "    for filename in os.listdir('dataset/train/neg'):\n",
    "        with open(os.path.join('dataset/train/neg', filename), 'r', encoding='utf-8') as file:\n",
    "            neg_reviews.append(file.read())\n",
    "\n",
    "    return pos_reviews, neg_reviews\n",
    "\n",
    "# Preprocess data for simplicity\n",
    "pos_reviews, neg_reviews = load_imdb_dataset()\n",
    "reviews = pos_reviews + neg_reviews\n",
    "labels = [1] * len(pos_reviews) + [0] * len(neg_reviews)\n",
    "df = pd.DataFrame({'review': reviews, 'sentiment': labels})\n",
    "df = df.sample(100)  # Use a smaller sample for demonstration\n",
    "\n",
    "blackboard.update('reviews', df['review'].tolist())\n",
    "\n",
    "# Create knowledge sources\n",
    "text_processor = TextProcessor(blackboard)\n",
    "rule_based_sa = RuleBasedSentimentAnalysis(blackboard)\n",
    "ml_based_sa = MachineLearningSentimentAnalysis(blackboard)\n",
    "\n",
    "# Train ML model\n",
    "ml_based_sa.train(df['review'].tolist(), df['sentiment'].tolist())\n",
    "\n",
    "knowledge_sources = [text_processor, rule_based_sa, ml_based_sa]\n",
    "\n",
    "# Run the control component\n",
    "control = ControlComponent(blackboard, knowledge_sources)\n",
    "control.run()\n",
    "\n",
    "# Output the final state of the blackboard\n",
    "# print(\"\\nFinal Blackboard State:\")\n",
    "# print(blackboard.data)\n"
   ]
  },
  {
   "cell_type": "code",
   "execution_count": 8,
   "id": "8f168bbb-04b6-469e-8ac2-fe21ba32e83a",
   "metadata": {},
   "outputs": [
    {
     "data": {
      "text/plain": [
       "dict_keys(['reviews', 'cleaned_reviews', 'rule_based_scores', 'ml_based_scores', 'final_sentiments'])"
      ]
     },
     "execution_count": 8,
     "metadata": {},
     "output_type": "execute_result"
    }
   ],
   "source": [
    "blackboard.data.keys()"
   ]
  },
  {
   "cell_type": "code",
   "execution_count": 9,
   "id": "47e08bea-a5a3-4d87-b966-a293bacd14eb",
   "metadata": {},
   "outputs": [
    {
     "data": {
      "text/plain": [
       "[\"The Matador is a witty, dark humored and suspenseful melodrama that rises way above mediocrity thanks to two very engaging and earnest performances from Pierce Brosnan, who has never ever been better than here, and the always reliable Greg Kinnear who has his best role here since playing Jack Nicholson's gay neighbor in As Good As It Gets. A big plus goes to the writing as well. Clever and occasionally very nasty dialog is delivered with gusto by Brosnan and the slow building friendship between these two different individuals is completely convincing all the way. The story takes a few unexpected turns and keeps the viewer constantly guessing where it's gonna go next.<br /><br />Nice artistic touches from the director such as good use of music, clever editing and somewhat unorthodox cinematography at times set a nice tone for the film and for a long period of time you don't quite know how to label the film. But that's also thanks to a very well written script which keeps the viewer (me anyway) on the edge of his seat.\",\n",
       " 'This is by far the WORST movie I have ever seen. I was going in expecting a cheesy movie but at least with some cool car scenes/races. What I got was nothing. The racing scene are so low budget they sped them up to make it look like the cars are \"going fast\" In one scene a Mercedes SLR goes from over 200 to 0 in like 4 seconds by just spinning around in circles. Its just ridiculous.<br /><br />If you wanna see a real movie about cars, see the fast and the furious series. They may be a little cheesy, but 100x better than this movie could ever hope to be. Better yet just watch Mischief 3000, the best car movie ever made I think.',\n",
       " 'Slaughter High the tale of revenge by a nerdy guy who fell victim to one of the coolest and coldest jokes in cinema history. Unfortunately after the promising opening the flick went straight to hell. A very tedious and redundant mess with mediocre slashings and a final half hour that sucked on a whole new level of suckiness. The guy who played the nerd actually killed himself shortly after the flick was released. If you wanna rent the flick stop it after the prank and remember, choose life.',\n",
       " \"May (Anne Reid) and Toots (Peter Vaughan) are paying an apparently infrequent visit to their son Bobby (Steven Mackintosh) and his family in London. Even as the visit begins, Toots suffers a fatal heart attack, leaving May adrift, unsure, and questioning her life and future. Finding herself attracted to her daughter's boyfriend Darren (Daniel Craig), her actions lead to inevitable consequences.<br /><br />Beautifully filmed, but for all its heralded realism and acclaim, The Mother offers a collection of mostly unpleasant, even repellent characters, and asks the viewer to engage with them. Reid shines as May, and it is her skill and commitment as a wonderfully understated actor that salvages the film from a completely depressing mire, but Michell and Kureishi have allowed Craig, Mackintosh and Cathryn Bradshaw to create such utterly obnoxious characters, that it becomes increasingly difficult to care what happens to May. As written, the characters played by Mackintosh and Bradshaw are in fact so utterly selfish and cold-hearted that one begins to wonder what exactly was Kureishi trying to say. As directed, they are either unwilling or unable to lift Bobby and Paula above the two dimensional in their ghastly selfishness. <br /><br />Worth seeing for Reid's performance, but little else. A crying shame...\",\n",
       " \"It's not the most well made slasher movies of all time, but for what it is, it's pretty amusing. The plot is lame but the kills are not too bad. I have to be honest, if you don't follow the bands that are featured in this film, you wont find this film as funny as those who do. I knew someone who saw this film and was really disappointed because of the poor quality of the film but you have to understand that it was made in the spare time of being on tour, in between playing to moshing kids and drinkin' with friends backstage...it's not made to be taken seriously. It's ubber cheese at it's punk best and with over 100 kills,most of which are ultra gory, it's a fun movie to have friends over to watch, drink and be merry!\"]"
      ]
     },
     "execution_count": 9,
     "metadata": {},
     "output_type": "execute_result"
    }
   ],
   "source": [
    "blackboard.data['reviews'][:5]"
   ]
  },
  {
   "cell_type": "code",
   "execution_count": 10,
   "id": "0cc20fda-b614-4ae7-a31b-b50317927516",
   "metadata": {},
   "outputs": [
    {
     "data": {
      "text/plain": [
       "['the matador is a witty  dark humored and suspenseful melodrama that rises way above mediocrity thanks to two very engaging and earnest performances from pierce brosnan  who has never ever been better than here  and the always reliable greg kinnear who has his best role here since playing jack nicholson s gay neighbor in as good as it gets  a big plus goes to the writing as well  clever and occasionally very nasty dialog is delivered with gusto by brosnan and the slow building friendship between these two different individuals is completely convincing all the way  the story takes a few unexpected turns and keeps the viewer constantly guessing where it s gonna go next   nice artistic touches from the director such as good use of music  clever editing and somewhat unorthodox cinematography at times set a nice tone for the film and for a long period of time you don t quite know how to label the film  but that s also thanks to a very well written script which keeps the viewer  me anyway  on the edge of his seat',\n",
       " 'this is by far the worst movie i have ever seen  i was going in expecting a cheesy movie but at least with some cool car scenes races  what i got was nothing  the racing scene are so low budget they sped them up to make it look like the cars are  going fast  in one scene a mercedes slr goes from over     to   in like   seconds by just spinning around in circles  its just ridiculous   if you wanna see a real movie about cars  see the fast and the furious series  they may be a little cheesy  but    x better than this movie could ever hope to be  better yet just watch mischief       the best car movie ever made i think',\n",
       " 'slaughter high the tale of revenge by a nerdy guy who fell victim to one of the coolest and coldest jokes in cinema history  unfortunately after the promising opening the flick went straight to hell  a very tedious and redundant mess with mediocre slashings and a final half hour that sucked on a whole new level of suckiness  the guy who played the nerd actually killed himself shortly after the flick was released  if you wanna rent the flick stop it after the prank and remember  choose life',\n",
       " 'may  anne reid  and toots  peter vaughan  are paying an apparently infrequent visit to their son bobby  steven mackintosh  and his family in london  even as the visit begins  toots suffers a fatal heart attack  leaving may adrift  unsure  and questioning her life and future  finding herself attracted to her daughter s boyfriend darren  daniel craig   her actions lead to inevitable consequences   beautifully filmed  but for all its heralded realism and acclaim  the mother offers a collection of mostly unpleasant  even repellent characters  and asks the viewer to engage with them  reid shines as may  and it is her skill and commitment as a wonderfully understated actor that salvages the film from a completely depressing mire  but michell and kureishi have allowed craig  mackintosh and cathryn bradshaw to create such utterly obnoxious characters  that it becomes increasingly difficult to care what happens to may  as written  the characters played by mackintosh and bradshaw are in fact so utterly selfish and cold hearted that one begins to wonder what exactly was kureishi trying to say  as directed  they are either unwilling or unable to lift bobby and paula above the two dimensional in their ghastly selfishness    worth seeing for reid s performance  but little else  a crying shame',\n",
       " 'it s not the most well made slasher movies of all time  but for what it is  it s pretty amusing  the plot is lame but the kills are not too bad  i have to be honest  if you don t follow the bands that are featured in this film  you wont find this film as funny as those who do  i knew someone who saw this film and was really disappointed because of the poor quality of the film but you have to understand that it was made in the spare time of being on tour  in between playing to moshing kids and drinkin  with friends backstage   it s not made to be taken seriously  it s ubber cheese at it s punk best and with over     kills most of which are ultra gory  it s a fun movie to have friends over to watch  drink and be merry']"
      ]
     },
     "execution_count": 10,
     "metadata": {},
     "output_type": "execute_result"
    }
   ],
   "source": [
    "blackboard.data['cleaned_reviews'][:5]"
   ]
  },
  {
   "cell_type": "code",
   "execution_count": 11,
   "id": "be3b90e5-f94e-41c3-9077-92ff0821d929",
   "metadata": {},
   "outputs": [
    {
     "data": {
      "text/plain": [
       "['positive', 'positive', 'negative', 'negative', 'positive']"
      ]
     },
     "execution_count": 11,
     "metadata": {},
     "output_type": "execute_result"
    }
   ],
   "source": [
    "blackboard.data['rule_based_scores'][:5]"
   ]
  },
  {
   "cell_type": "code",
   "execution_count": 12,
   "id": "1a943ad1-3fad-477c-8fe5-c3574bf972f4",
   "metadata": {},
   "outputs": [
    {
     "data": {
      "text/plain": [
       "[1, 0, 0, 0, 0]"
      ]
     },
     "execution_count": 12,
     "metadata": {},
     "output_type": "execute_result"
    }
   ],
   "source": [
    "blackboard.data['ml_based_scores'][:5]"
   ]
  },
  {
   "cell_type": "code",
   "execution_count": null,
   "id": "f125546c-6e37-460d-9d43-39c6baf76f0f",
   "metadata": {},
   "outputs": [],
   "source": []
  }
 ],
 "metadata": {
  "kernelspec": {
   "display_name": "Python 3 (ipykernel)",
   "language": "python",
   "name": "python3"
  },
  "language_info": {
   "codemirror_mode": {
    "name": "ipython",
    "version": 3
   },
   "file_extension": ".py",
   "mimetype": "text/x-python",
   "name": "python",
   "nbconvert_exporter": "python",
   "pygments_lexer": "ipython3",
   "version": "3.9.18"
  }
 },
 "nbformat": 4,
 "nbformat_minor": 5
}
