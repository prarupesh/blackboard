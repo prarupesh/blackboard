{
 "cells": [
  {
   "cell_type": "markdown",
   "id": "da4e26cc-8922-4e8b-a431-90f8e66a14a2",
   "metadata": {},
   "source": [
    "## <center>Blackboard Architecture Demonstration (Sentiment Analysis)</center>\n",
    "![blackboard architecture](blackboard_architecture.png)"
   ]
  },
  {
   "cell_type": "code",
   "execution_count": 2,
   "id": "d3458ed0-9c6e-4318-b70a-efa9416a50df",
   "metadata": {},
   "outputs": [],
   "source": [
    "import os\n",
    "import nltk\n",
    "from nltk.sentiment.vader import SentimentIntensityAnalyzer\n",
    "from sklearn.feature_extraction.text import TfidfVectorizer\n",
    "from sklearn.linear_model import LogisticRegression\n",
    "import pandas as pd\n",
    "import re"
   ]
  },
  {
   "cell_type": "code",
   "execution_count": 3,
   "id": "779c1941-c52c-407b-8204-28aa78c110e9",
   "metadata": {},
   "outputs": [
    {
     "name": "stderr",
     "output_type": "stream",
     "text": [
      "[nltk_data] Downloading package vader_lexicon to\n",
      "[nltk_data]     /Users/rupesh/nltk_data...\n",
      "[nltk_data]   Package vader_lexicon is already up-to-date!\n"
     ]
    },
    {
     "data": {
      "text/plain": [
       "True"
      ]
     },
     "execution_count": 3,
     "metadata": {},
     "output_type": "execute_result"
    }
   ],
   "source": [
    "#nltk.download('vader_lexicon')"
   ]
  },
  {
   "cell_type": "code",
   "execution_count": 4,
   "id": "56c5331c-9adb-4b0a-ac11-4fb21eb1d045",
   "metadata": {},
   "outputs": [],
   "source": [
    "class Blackboard:\n",
    "    def __init__(self):\n",
    "        self.data = {\n",
    "            'reviews': [],\n",
    "            'cleaned_reviews': [],\n",
    "            'rule_based_scores': [],\n",
    "            'ml_based_scores': [],\n",
    "            'final_sentiments': []\n",
    "        }\n",
    "\n",
    "    def update(self, key, value):\n",
    "        if key in self.data and isinstance(self.data[key], list):\n",
    "            self.data[key].extend(value)\n",
    "        else:\n",
    "            self.data[key] = value\n",
    "\n",
    "    def read(self, key):\n",
    "        return self.data.get(key)\n"
   ]
  },
  {
   "cell_type": "code",
   "execution_count": 5,
   "id": "dadae8d7-4353-464e-be92-f4bb98cfdedb",
   "metadata": {},
   "outputs": [],
   "source": [
    "class KnowledgeSource:\n",
    "    def __init__(self, blackboard):\n",
    "        self.blackboard = blackboard\n",
    "\n",
    "    def act(self):\n",
    "        raise NotImplementedError"
   ]
  },
  {
   "cell_type": "code",
   "execution_count": 6,
   "id": "d12f1d75-26a7-4944-ac87-be7ce40ceea1",
   "metadata": {},
   "outputs": [],
   "source": [
    "# Basic Text Processing KS\n",
    "class TextProcessor(KnowledgeSource):\n",
    "    def act(self):\n",
    "        reviews = self.blackboard.read('reviews')\n",
    "        cleaned_reviews = [self.clean_text(review) for review in reviews]\n",
    "        self.blackboard.update('cleaned_reviews', cleaned_reviews)\n",
    "\n",
    "    def clean_text(self, text):\n",
    "        text = re.sub(r'<.*?>', ' ', text)\n",
    "        text = re.sub(r'[^a-zA-Z\\s]', ' ', text)\n",
    "        text = text.lower().strip()\n",
    "        return text\n",
    "\n",
    "# Rule-Based Sentiment Analysis KS\n",
    "class RuleBasedSentimentAnalysis(KnowledgeSource):\n",
    "    def __init__(self, blackboard):\n",
    "        super().__init__(blackboard)\n",
    "        self.analyzer = SentimentIntensityAnalyzer()\n",
    "\n",
    "    def act(self):\n",
    "        cleaned_reviews = self.blackboard.read('cleaned_reviews')\n",
    "        scores = [self.analyzer.polarity_scores(review)['compound'] for review in cleaned_reviews]\n",
    "        sentiments = ['positive' if score >= 0 else 'negative' for score in scores]\n",
    "        self.blackboard.update('rule_based_scores', sentiments)\n",
    "\n",
    "# Machine Learning Sentiment Analysis KS\n",
    "class MachineLearningSentimentAnalysis(KnowledgeSource):\n",
    "    def __init__(self, blackboard):\n",
    "        super().__init__(blackboard)\n",
    "        self.vectorizer = TfidfVectorizer(max_features=5000)\n",
    "        self.model = LogisticRegression()\n",
    "\n",
    "    def train(self, reviews, labels):\n",
    "        vectors = self.vectorizer.fit_transform(reviews)\n",
    "        self.model.fit(vectors, labels)\n",
    "\n",
    "    def act(self):\n",
    "        cleaned_reviews = self.blackboard.read('cleaned_reviews')\n",
    "        vectors = self.vectorizer.transform(cleaned_reviews)\n",
    "        sentiments = self.model.predict(vectors)\n",
    "        self.blackboard.update('ml_based_scores', sentiments)"
   ]
  },
  {
   "cell_type": "code",
   "execution_count": 7,
   "id": "99daf9b4-45fc-4119-b254-7ab113df1fb9",
   "metadata": {},
   "outputs": [],
   "source": [
    "class ControlComponent:\n",
    "    def __init__(self, blackboard, knowledge_sources):\n",
    "        self.blackboard = blackboard\n",
    "        self.knowledge_sources = knowledge_sources\n",
    "\n",
    "    def run(self):\n",
    "        for ks in self.knowledge_sources:\n",
    "            ks.act()"
   ]
  },
  {
   "cell_type": "code",
   "execution_count": 8,
   "id": "29d6a32b-c8d4-4145-a185-99fc010e9c17",
   "metadata": {},
   "outputs": [],
   "source": [
    "# Instantiate the system components\n",
    "blackboard = Blackboard()\n",
    "\n",
    "# Load IMDb dataset\n",
    "def load_imdb_dataset():\n",
    "    # Read positive reviews\n",
    "    pos_reviews = []\n",
    "    for filename in os.listdir('dataset/train/pos'):\n",
    "        with open(os.path.join('dataset/train/pos', filename), 'r', encoding='utf-8') as file:\n",
    "            pos_reviews.append(file.read())\n",
    "\n",
    "    # Read negative reviews\n",
    "    neg_reviews = []\n",
    "    for filename in os.listdir('dataset/train/neg'):\n",
    "        with open(os.path.join('dataset/train/neg', filename), 'r', encoding='utf-8') as file:\n",
    "            neg_reviews.append(file.read())\n",
    "\n",
    "    return pos_reviews, neg_reviews\n",
    "\n",
    "# Preprocess data for simplicity\n",
    "pos_reviews, neg_reviews = load_imdb_dataset()\n",
    "reviews = pos_reviews + neg_reviews\n",
    "labels = [1] * len(pos_reviews) + [0] * len(neg_reviews)\n",
    "df = pd.DataFrame({'review': reviews, 'sentiment': labels})\n",
    "df = df.sample(100)  # Use a smaller sample for demonstration\n",
    "\n",
    "blackboard.update('reviews', df['review'].tolist())\n",
    "\n",
    "# Create knowledge sources\n",
    "text_processor = TextProcessor(blackboard)\n",
    "rule_based_sa = RuleBasedSentimentAnalysis(blackboard)\n",
    "ml_based_sa = MachineLearningSentimentAnalysis(blackboard)\n",
    "\n",
    "# Train ML model\n",
    "ml_based_sa.train(df['review'].tolist(), df['sentiment'].tolist())\n",
    "\n",
    "knowledge_sources = [text_processor, rule_based_sa, ml_based_sa]\n",
    "\n",
    "# Run the control component\n",
    "control = ControlComponent(blackboard, knowledge_sources)\n",
    "control.run()\n",
    "\n",
    "# Output the final state of the blackboard\n",
    "# print(\"\\nFinal Blackboard State:\")\n",
    "# print(blackboard.data)\n"
   ]
  },
  {
   "cell_type": "code",
   "execution_count": 9,
   "id": "8f168bbb-04b6-469e-8ac2-fe21ba32e83a",
   "metadata": {},
   "outputs": [
    {
     "data": {
      "text/plain": [
       "dict_keys(['reviews', 'cleaned_reviews', 'rule_based_scores', 'ml_based_scores', 'final_sentiments'])"
      ]
     },
     "execution_count": 9,
     "metadata": {},
     "output_type": "execute_result"
    }
   ],
   "source": [
    "blackboard.data.keys()"
   ]
  },
  {
   "cell_type": "code",
   "execution_count": 10,
   "id": "47e08bea-a5a3-4d87-b966-a293bacd14eb",
   "metadata": {},
   "outputs": [
    {
     "data": {
      "text/plain": [
       "['LOC could have been a very well made movie on how the Kargil war was fought; it had the locations, the budget, and the skill to have been India\\'s \"Saving Private Ryan\" or \"Black Hawk Down\". Instead it come across as a bloated, 4 hour bore of trying to meld the war move with the masala movie. Even the war scenes were terribly executed, using the same hill in all their battle scenes, and spending unnecessary time on casual talk. Instead of trying to appeal to the indian public, a better movie would have been a to-the-book account of what happened at Kargil (like \"Black Hawk Down\") or even spending time on the militant point of view (like \"Tora, Tora, Tora\"). Even better, it could have used a competent director like Ram Gopal Verma to write, direct and edit the film. Until then, I\\'d like to see some one re-edit this film, with only the pertinent portions included; it would make the movie more watchable.',\n",
       " 'This was a wonderful little American propaganda film that is both highly creative AND openly discusses the Nazi atrocities before the entire extent of the death camps were revealed. While late 1944 and into 1945 would reveal just how evil and horrific they were, this film, unlike other Hollywood films to date, is the most brutally honest film of the era I have seen regarding Nazi atrocities.<br /><br />The film begins in a courtroom in the future--after the war is over (the film was made in 1944--the war ended in May, 1945). In this fictitious world court, a Nazi leader is being tried for war crimes. Wilhelm Grimm is totally unrepentant and one by one witnesses are called who reveal Grimm\\'s life since 1919 in a series of flashbacks. At first, it appears that the film is going to be sympathetic or explain how Grimm was pushed to join the Nazis. However, after a while, it becomes very apparent that Grimm is just a sadistic monster. These episodes are amazingly well done and definitely hold your interest and also make the film seem less like a piece of propaganda but a legitimate drama.<br /><br />All in all, the film does a great job considering the film mostly stars second-tier actors. There are many compelling scenes and performances--especially the very prescient Jewish extermination scene towards the end that can\\'t help but bring you close to tears. It was also interesting how around the same point in the film there were some super-creative scenes that use crosses in a way you might not notice at first. Overall, it\\'s a must-see for history lovers and anyone who wants to see a good film.<br /><br />FYI--This is not meant as a serious criticism of the film, but Hitler was referred to as \"that paper hanger\". This is a reference to the myth that Hitler had once made money putting up wallpaper. This is in fact NOT true--previously he\\'d been a \"starving artist\", homeless person and served well in the German army in WWI. A horrible person, yes, but never a paper hanger!',\n",
       " \"This is a wonderful movie about the struggle of the Mormons and their final settlement in Salt Lake, Utah. The beginning and the ending are especially powerful, and the message is one we all have to be reminded of - God doesn't talk, but he communicates, if we would only listen. As I am writing this in the midst of the horrors going on in New Orleans and the surrounding area due to Katrina, I was especially moved by the Mormons having to leave everything behind and move on after Joseph Smith was assassinated. People came to this country to escape religious persecution, and yet they could not. The struggle of the Mormons to cross the country, the cost in lives, the hardship they suffered was truly awe-inspiring, demonstrating their tremendous strength. As far as the actual beliefs of Mormons, this is not heavily gone into, and polygamy is mentioned but is not a centerpiece of the film at all.<br /><br />The cast is top-notch, though others who have commented know more about the actual characters and can talk about how true the portrayals were. But as actors, Dean Jagger, Mary Astor, Brian Donlevy, John Carradine, Jane Darwell all do excellently with the script they were given.<br /><br />Though the film could have easily stood on its own (and certainly does today) Tyrone Power and Linda Darnell were added to the cast to get the crowds into the movie theaters to see a film about the Mormons. Power is magnificently handsome as a young Mormon, and Darnell, as Zina, is not a Mormon but stays on with the family after her father is killed. Power does not have much to do until the end of the film, when he has a big scene, and Darnell (still a teenager at the time of the filming) has even less, though they make a lovely couple. Their fate is left unclear regarding her conversion, and one does wonder about the polygamy in their case. You can't beat either one for eye candy, however.\",\n",
       " \"I just saw a press screening of this film and I was pleasantly surprised. Not often is it that I get to see all of my favorite actors in one film at one time.<br /><br />I really enjoyed the pick pocket scene and it was good to see Rachael Bilson and Hayden back together. I think their chemistry on camera is a direct result of their time together off camera. My favorite scene was by far (surprisingly so) Bret Ratner's piece... Without giving too much away, I'll just say that there is a surprise that leaves you hanging...<br /><br />The old couple were really good together and you actually got the impression that they had spent a lifetime together. <br /><br />Both the Chris Cooper and the Ethan Hawke segments packed a punch with surprises that seem realistic and similar to experiences that I've had in the big apple. Over all the film is a great place to take a date... especially if you're already fond of the city itself.<br /><br />I can't wait for the next in the Cities of Love.\",\n",
       " \"_Les Acteurs_ is the absurd story of Jean-Pierre Marielle desperately waiting for a cup of hot water, the story of a conspiracy against actors, the story of aging actors whose careers are slowly less active than they used to be, but a stunning tribute to French actors and their cinema.<br /><br />Supported by a solid reflection about cinema and acting (the fourth wall, the hidden cameras, to play or not to play), the story of this film in which most of those famous actors play their own role (not to be mixed up with living their life in front of the camera - the film is not voyeur) is quite vague, and follows the actors in series of episodes which make the film quite amusing. As André Dussolier quits the film and leaves Josiane Balasko to play his part (great actress, she's hilariously serious especially when, in Dussolier's role, she bitches about herself), as actors run in each other on the street, asking for autographs, as fights and gossip happen, we recognize pastiche of other scenes in which each (or others) have played.<br /><br />Actually, for whoever does not know the actors (most of them being at least in their 50s) or does not know French Cinema, this movie has less interest, since most of the references will be missed, but it will still offer a good track of reflection on aging, on acting, on public life...\"]"
      ]
     },
     "execution_count": 10,
     "metadata": {},
     "output_type": "execute_result"
    }
   ],
   "source": [
    "blackboard.data['reviews'][:5]"
   ]
  },
  {
   "cell_type": "code",
   "execution_count": 11,
   "id": "0cc20fda-b614-4ae7-a31b-b50317927516",
   "metadata": {},
   "outputs": [
    {
     "data": {
      "text/plain": [
       "['loc could have been a very well made movie on how the kargil war was fought  it had the locations  the budget  and the skill to have been india s  saving private ryan  or  black hawk down   instead it come across as a bloated    hour bore of trying to meld the war move with the masala movie  even the war scenes were terribly executed  using the same hill in all their battle scenes  and spending unnecessary time on casual talk  instead of trying to appeal to the indian public  a better movie would have been a to the book account of what happened at kargil  like  black hawk down   or even spending time on the militant point of view  like  tora  tora  tora    even better  it could have used a competent director like ram gopal verma to write  direct and edit the film  until then  i d like to see some one re edit this film  with only the pertinent portions included  it would make the movie more watchable',\n",
       " 'this was a wonderful little american propaganda film that is both highly creative and openly discusses the nazi atrocities before the entire extent of the death camps were revealed  while late      and into      would reveal just how evil and horrific they were  this film  unlike other hollywood films to date  is the most brutally honest film of the era i have seen regarding nazi atrocities   the film begins in a courtroom in the future  after the war is over  the film was made in       the war ended in may         in this fictitious world court  a nazi leader is being tried for war crimes  wilhelm grimm is totally unrepentant and one by one witnesses are called who reveal grimm s life since      in a series of flashbacks  at first  it appears that the film is going to be sympathetic or explain how grimm was pushed to join the nazis  however  after a while  it becomes very apparent that grimm is just a sadistic monster  these episodes are amazingly well done and definitely hold your interest and also make the film seem less like a piece of propaganda but a legitimate drama   all in all  the film does a great job considering the film mostly stars second tier actors  there are many compelling scenes and performances  especially the very prescient jewish extermination scene towards the end that can t help but bring you close to tears  it was also interesting how around the same point in the film there were some super creative scenes that use crosses in a way you might not notice at first  overall  it s a must see for history lovers and anyone who wants to see a good film   fyi  this is not meant as a serious criticism of the film  but hitler was referred to as  that paper hanger   this is a reference to the myth that hitler had once made money putting up wallpaper  this is in fact not true  previously he d been a  starving artist   homeless person and served well in the german army in wwi  a horrible person  yes  but never a paper hanger',\n",
       " 'this is a wonderful movie about the struggle of the mormons and their final settlement in salt lake  utah  the beginning and the ending are especially powerful  and the message is one we all have to be reminded of   god doesn t talk  but he communicates  if we would only listen  as i am writing this in the midst of the horrors going on in new orleans and the surrounding area due to katrina  i was especially moved by the mormons having to leave everything behind and move on after joseph smith was assassinated  people came to this country to escape religious persecution  and yet they could not  the struggle of the mormons to cross the country  the cost in lives  the hardship they suffered was truly awe inspiring  demonstrating their tremendous strength  as far as the actual beliefs of mormons  this is not heavily gone into  and polygamy is mentioned but is not a centerpiece of the film at all   the cast is top notch  though others who have commented know more about the actual characters and can talk about how true the portrayals were  but as actors  dean jagger  mary astor  brian donlevy  john carradine  jane darwell all do excellently with the script they were given   though the film could have easily stood on its own  and certainly does today  tyrone power and linda darnell were added to the cast to get the crowds into the movie theaters to see a film about the mormons  power is magnificently handsome as a young mormon  and darnell  as zina  is not a mormon but stays on with the family after her father is killed  power does not have much to do until the end of the film  when he has a big scene  and darnell  still a teenager at the time of the filming  has even less  though they make a lovely couple  their fate is left unclear regarding her conversion  and one does wonder about the polygamy in their case  you can t beat either one for eye candy  however',\n",
       " 'i just saw a press screening of this film and i was pleasantly surprised  not often is it that i get to see all of my favorite actors in one film at one time   i really enjoyed the pick pocket scene and it was good to see rachael bilson and hayden back together  i think their chemistry on camera is a direct result of their time together off camera  my favorite scene was by far  surprisingly so  bret ratner s piece    without giving too much away  i ll just say that there is a surprise that leaves you hanging     the old couple were really good together and you actually got the impression that they had spent a lifetime together    both the chris cooper and the ethan hawke segments packed a punch with surprises that seem realistic and similar to experiences that i ve had in the big apple  over all the film is a great place to take a date    especially if you re already fond of the city itself   i can t wait for the next in the cities of love',\n",
       " 'les acteurs  is the absurd story of jean pierre marielle desperately waiting for a cup of hot water  the story of a conspiracy against actors  the story of aging actors whose careers are slowly less active than they used to be  but a stunning tribute to french actors and their cinema   supported by a solid reflection about cinema and acting  the fourth wall  the hidden cameras  to play or not to play   the story of this film in which most of those famous actors play their own role  not to be mixed up with living their life in front of the camera   the film is not voyeur  is quite vague  and follows the actors in series of episodes which make the film quite amusing  as andr  dussolier quits the film and leaves josiane balasko to play his part  great actress  she s hilariously serious especially when  in dussolier s role  she bitches about herself   as actors run in each other on the street  asking for autographs  as fights and gossip happen  we recognize pastiche of other scenes in which each  or others  have played   actually  for whoever does not know the actors  most of them being at least in their   s  or does not know french cinema  this movie has less interest  since most of the references will be missed  but it will still offer a good track of reflection on aging  on acting  on public life']"
      ]
     },
     "execution_count": 11,
     "metadata": {},
     "output_type": "execute_result"
    }
   ],
   "source": [
    "blackboard.data['cleaned_reviews'][:5]"
   ]
  },
  {
   "cell_type": "code",
   "execution_count": 12,
   "id": "be3b90e5-f94e-41c3-9077-92ff0821d929",
   "metadata": {},
   "outputs": [
    {
     "data": {
      "text/plain": [
       "['negative', 'positive', 'positive', 'positive', 'positive']"
      ]
     },
     "execution_count": 12,
     "metadata": {},
     "output_type": "execute_result"
    }
   ],
   "source": [
    "blackboard.data['rule_based_scores'][:5]"
   ]
  },
  {
   "cell_type": "code",
   "execution_count": 13,
   "id": "1a943ad1-3fad-477c-8fe5-c3574bf972f4",
   "metadata": {},
   "outputs": [
    {
     "data": {
      "text/plain": [
       "[0, 1, 1, 1, 1]"
      ]
     },
     "execution_count": 13,
     "metadata": {},
     "output_type": "execute_result"
    }
   ],
   "source": [
    "blackboard.data['ml_based_scores'][:5]"
   ]
  }
 ],
 "metadata": {
  "kernelspec": {
   "display_name": "Python 3 (ipykernel)",
   "language": "python",
   "name": "python3"
  },
  "language_info": {
   "codemirror_mode": {
    "name": "ipython",
    "version": 3
   },
   "file_extension": ".py",
   "mimetype": "text/x-python",
   "name": "python",
   "nbconvert_exporter": "python",
   "pygments_lexer": "ipython3",
   "version": "3.9.18"
  }
 },
 "nbformat": 4,
 "nbformat_minor": 5
}
